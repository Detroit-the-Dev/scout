{
 "cells": [
  {
   "cell_type": "markdown",
   "metadata": {},
   "source": [
    "## NYC Open Data Common Column Names \n",
    "#### Exploratory Data Analysis of field names\n",
    "Hack day Q2 2020"
   ]
  },
  {
   "cell_type": "code",
   "execution_count": 23,
   "metadata": {
    "collapsed": true,
    "jupyter": {
     "outputs_hidden": true
    }
   },
   "outputs": [],
   "source": [
    "import pandas as pd\n",
    "import numpy as np\n",
    "import seaborn as sns\n",
    "import matplotlib.pyplot as plt"
   ]
  },
  {
   "cell_type": "code",
   "execution_count": 37,
   "metadata": {
    "collapsed": true,
    "jupyter": {
     "outputs_hidden": true
    }
   },
   "outputs": [],
   "source": [
    "plt.rcParams['axes.xmargin'] = 0"
   ]
  },
  {
   "cell_type": "code",
   "execution_count": 35,
   "metadata": {
    "collapsed": true,
    "jupyter": {
     "outputs_hidden": true
    }
   },
   "outputs": [
    {
     "data": {
      "text/html": [
       "<div>\n",
       "<style scoped>\n",
       "    .dataframe tbody tr th:only-of-type {\n",
       "        vertical-align: middle;\n",
       "    }\n",
       "\n",
       "    .dataframe tbody tr th {\n",
       "        vertical-align: top;\n",
       "    }\n",
       "\n",
       "    .dataframe thead th {\n",
       "        text-align: right;\n",
       "    }\n",
       "</style>\n",
       "<table border=\"1\" class=\"dataframe\">\n",
       "  <thead>\n",
       "    <tr style=\"text-align: right;\">\n",
       "      <th></th>\n",
       "      <th>name</th>\n",
       "      <th>field_type</th>\n",
       "      <th>field_name</th>\n",
       "      <th>description</th>\n",
       "      <th>dataset-id</th>\n",
       "      <th>dataset_link</th>\n",
       "      <th>portal</th>\n",
       "    </tr>\n",
       "  </thead>\n",
       "  <tbody>\n",
       "    <tr>\n",
       "      <td>6</td>\n",
       "      <td>DOBRunDate</td>\n",
       "      <td>Calendar date</td>\n",
       "      <td>dobrundate</td>\n",
       "      <td>Date when query is run and pushed to Open Data...</td>\n",
       "      <td>ic3t-wcy2</td>\n",
       "      <td>https://data.cityofnewyork.us/d/ic3t-wcy2</td>\n",
       "      <td>data.cityofnewyork</td>\n",
       "    </tr>\n",
       "    <tr>\n",
       "      <td>7</td>\n",
       "      <td>Zip</td>\n",
       "      <td>Text</td>\n",
       "      <td>zip</td>\n",
       "      <td>Zip</td>\n",
       "      <td>ic3t-wcy2</td>\n",
       "      <td>https://data.cityofnewyork.us/d/ic3t-wcy2</td>\n",
       "      <td>data.cityofnewyork</td>\n",
       "    </tr>\n",
       "    <tr>\n",
       "      <td>8</td>\n",
       "      <td>State</td>\n",
       "      <td>Text</td>\n",
       "      <td>state</td>\n",
       "      <td>State</td>\n",
       "      <td>ic3t-wcy2</td>\n",
       "      <td>https://data.cityofnewyork.us/d/ic3t-wcy2</td>\n",
       "      <td>data.cityofnewyork</td>\n",
       "    </tr>\n",
       "    <tr>\n",
       "      <td>10</td>\n",
       "      <td>Owner Type</td>\n",
       "      <td>Text</td>\n",
       "      <td>owner_type</td>\n",
       "      <td>Owner Type</td>\n",
       "      <td>ic3t-wcy2</td>\n",
       "      <td>https://data.cityofnewyork.us/d/ic3t-wcy2</td>\n",
       "      <td>data.cityofnewyork</td>\n",
       "    </tr>\n",
       "    <tr>\n",
       "      <td>34</td>\n",
       "      <td>Owner's Last Name</td>\n",
       "      <td>Text</td>\n",
       "      <td>owner_s_last_name</td>\n",
       "      <td>Last Name of property owner</td>\n",
       "      <td>ic3t-wcy2</td>\n",
       "      <td>https://data.cityofnewyork.us/d/ic3t-wcy2</td>\n",
       "      <td>data.cityofnewyork</td>\n",
       "    </tr>\n",
       "  </tbody>\n",
       "</table>\n",
       "</div>"
      ],
      "text/plain": [
       "                 name     field_type         field_name  \\\n",
       "6          DOBRunDate  Calendar date         dobrundate   \n",
       "7                 Zip           Text                zip   \n",
       "8               State           Text              state   \n",
       "10         Owner Type           Text         owner_type   \n",
       "34  Owner's Last Name           Text  owner_s_last_name   \n",
       "\n",
       "                                          description dataset-id  \\\n",
       "6   Date when query is run and pushed to Open Data...  ic3t-wcy2   \n",
       "7                                                 Zip  ic3t-wcy2   \n",
       "8                                               State  ic3t-wcy2   \n",
       "10                                         Owner Type  ic3t-wcy2   \n",
       "34                        Last Name of property owner  ic3t-wcy2   \n",
       "\n",
       "                                 dataset_link              portal  \n",
       "6   https://data.cityofnewyork.us/d/ic3t-wcy2  data.cityofnewyork  \n",
       "7   https://data.cityofnewyork.us/d/ic3t-wcy2  data.cityofnewyork  \n",
       "8   https://data.cityofnewyork.us/d/ic3t-wcy2  data.cityofnewyork  \n",
       "10  https://data.cityofnewyork.us/d/ic3t-wcy2  data.cityofnewyork  \n",
       "34  https://data.cityofnewyork.us/d/ic3t-wcy2  data.cityofnewyork  "
      ]
     },
     "execution_count": 35,
     "metadata": {},
     "output_type": "execute_result"
    }
   ],
   "source": [
    "common_columns_df = pd.read_csv(\"nyc_columns_common.csv\", index_col=0)\n",
    "common_columns_df.head()"
   ]
  },
  {
   "cell_type": "code",
   "execution_count": 36,
   "metadata": {
    "collapsed": true,
    "jupyter": {
     "outputs_hidden": true
    }
   },
   "outputs": [
    {
     "data": {
      "text/html": [
       "<div>\n",
       "<style scoped>\n",
       "    .dataframe tbody tr th:only-of-type {\n",
       "        vertical-align: middle;\n",
       "    }\n",
       "\n",
       "    .dataframe tbody tr th {\n",
       "        vertical-align: top;\n",
       "    }\n",
       "\n",
       "    .dataframe thead th {\n",
       "        text-align: right;\n",
       "    }\n",
       "</style>\n",
       "<table border=\"1\" class=\"dataframe\">\n",
       "  <thead>\n",
       "    <tr style=\"text-align: right;\">\n",
       "      <th></th>\n",
       "      <th>name</th>\n",
       "      <th>field_type</th>\n",
       "      <th>field_name</th>\n",
       "      <th>description</th>\n",
       "      <th>dataset-id</th>\n",
       "      <th>dataset_link</th>\n",
       "      <th>portal</th>\n",
       "    </tr>\n",
       "  </thead>\n",
       "  <tbody>\n",
       "    <tr>\n",
       "      <td>count</td>\n",
       "      <td>25845</td>\n",
       "      <td>25845</td>\n",
       "      <td>25845</td>\n",
       "      <td>4138</td>\n",
       "      <td>25845</td>\n",
       "      <td>25845</td>\n",
       "      <td>25845</td>\n",
       "    </tr>\n",
       "    <tr>\n",
       "      <td>unique</td>\n",
       "      <td>2410</td>\n",
       "      <td>17</td>\n",
       "      <td>1415</td>\n",
       "      <td>2155</td>\n",
       "      <td>2024</td>\n",
       "      <td>2024</td>\n",
       "      <td>1</td>\n",
       "    </tr>\n",
       "    <tr>\n",
       "      <td>top</td>\n",
       "      <td>Borough</td>\n",
       "      <td>Text</td>\n",
       "      <td>borough</td>\n",
       "      <td>One of the five boroughs of New York City.  NY...</td>\n",
       "      <td>expp-gbrz</td>\n",
       "      <td>https://data.cityofnewyork.us/d/expp-gbrz</td>\n",
       "      <td>data.cityofnewyork</td>\n",
       "    </tr>\n",
       "    <tr>\n",
       "      <td>freq</td>\n",
       "      <td>504</td>\n",
       "      <td>11885</td>\n",
       "      <td>592</td>\n",
       "      <td>28</td>\n",
       "      <td>79</td>\n",
       "      <td>79</td>\n",
       "      <td>25845</td>\n",
       "    </tr>\n",
       "  </tbody>\n",
       "</table>\n",
       "</div>"
      ],
      "text/plain": [
       "           name field_type field_name  \\\n",
       "count     25845      25845      25845   \n",
       "unique     2410         17       1415   \n",
       "top     Borough       Text    borough   \n",
       "freq        504      11885        592   \n",
       "\n",
       "                                              description dataset-id  \\\n",
       "count                                                4138      25845   \n",
       "unique                                               2155       2024   \n",
       "top     One of the five boroughs of New York City.  NY...  expp-gbrz   \n",
       "freq                                                   28         79   \n",
       "\n",
       "                                     dataset_link              portal  \n",
       "count                                       25845               25845  \n",
       "unique                                       2024                   1  \n",
       "top     https://data.cityofnewyork.us/d/expp-gbrz  data.cityofnewyork  \n",
       "freq                                           79               25845  "
      ]
     },
     "execution_count": 36,
     "metadata": {},
     "output_type": "execute_result"
    }
   ],
   "source": [
    "common_columns_df.describe()"
   ]
  },
  {
   "cell_type": "markdown",
   "metadata": {},
   "source": [
    "### Visualize most common field names"
   ]
  },
  {
   "cell_type": "code",
   "execution_count": 38,
   "metadata": {
    "collapsed": true,
    "jupyter": {
     "outputs_hidden": true
    }
   },
   "outputs": [],
   "source": [
    "field_name_counts = common_columns_df.field_name.value_counts()"
   ]
  },
  {
   "cell_type": "code",
   "execution_count": 40,
   "metadata": {
    "collapsed": true,
    "jupyter": {
     "outputs_hidden": true
    }
   },
   "outputs": [
    {
     "data": {
      "image/png": "[encoded data removed]",
      "text/plain": [
       "<Figure size 576x324 with 1 Axes>"
      ]
     },
     "metadata": {},
     "output_type": "display_data"
    }
   ],
   "source": [
    "# Plotting headcount\n",
    "n = 25\n",
    "\n",
    "fig, ax = plt.subplots(1, 1, figsize=(8, 4.5))\n",
    "sns.barplot(x=field_name_counts.iloc[:n].values, y=field_name_counts.iloc[:n].index, ax=ax);"
   ]
  },
  {
   "cell_type": "markdown",
   "metadata": {},
   "source": [
    "### Visualize most common human-readable names"
   ]
  },
  {
   "cell_type": "code",
   "execution_count": 42,
   "metadata": {
    "collapsed": true,
    "jupyter": {
     "outputs_hidden": true
    }
   },
   "outputs": [
    {
     "data": {
      "image/png": "[encoded data removed]",
      "text/plain": [
       "<Figure size 576x324 with 1 Axes>"
      ]
     },
     "metadata": {},
     "output_type": "display_data"
    }
   ],
   "source": [
    "name_counts = common_columns_df.name.value_counts()\n",
    "fig, ax = plt.subplots(1, 1, figsize=(8, 4.5))\n",
    "sns.barplot(x=name_counts.iloc[:25].values, y=name_counts.iloc[:n].index, ax=ax);"
   ]
  },
  {
   "cell_type": "markdown",
   "metadata": {},
   "source": [
    "### What does the `field_name` -> `name` mapping look like?  "
   ]
  },
  {
   "cell_type": "markdown",
   "metadata": {},
   "source": [
    "Overall, the vast majority of field names map to one or two human-readable names."
   ]
  },
  {
   "cell_type": "code",
   "execution_count": 49,
   "metadata": {
    "collapsed": true,
    "jupyter": {
     "outputs_hidden": true
    }
   },
   "outputs": [],
   "source": [
    "values_per_field_name = (common_columns_df\n",
    "                         .groupby('field_name')\n",
    "                         .nunique()\n",
    "                         .drop(columns='field_name')\n",
    "                         .sort_values(by='name', ascending=False))"
   ]
  },
  {
   "cell_type": "code",
   "execution_count": 50,
   "metadata": {
    "collapsed": true,
    "jupyter": {
     "outputs_hidden": true
    }
   },
   "outputs": [
    {
     "data": {
      "image/png": "[encoded data removed]",
      "text/plain": [
       "<Figure size 504x360 with 1 Axes>"
      ]
     },
     "metadata": {},
     "output_type": "display_data"
    }
   ],
   "source": [
    "fig, ax = plt.subplots(1, 1, figsize=(7, 5))\n",
    "values_per_field_name.name.plot.hist(ax=ax, title=\"Human-readable names per API field name\");"
   ]
  },
  {
   "cell_type": "markdown",
   "metadata": {},
   "source": [
    "#### Let's have a look at the worst offenders\n",
    "It appears that most of these could be cleared up with simple cleaning or fuzzy string matching, with the exception of `council_district` -> `Community Board`, `council_district` -> `council`, and `zip_code` -> `Postcode` (and similar)."
   ]
  },
  {
   "cell_type": "code",
   "execution_count": 51,
   "metadata": {
    "collapsed": true,
    "jupyter": {
     "outputs_hidden": true
    }
   },
   "outputs": [
    {
     "data": {
      "text/html": [
       "<div>\n",
       "<style scoped>\n",
       "    .dataframe tbody tr th:only-of-type {\n",
       "        vertical-align: middle;\n",
       "    }\n",
       "\n",
       "    .dataframe tbody tr th {\n",
       "        vertical-align: top;\n",
       "    }\n",
       "\n",
       "    .dataframe thead th {\n",
       "        text-align: right;\n",
       "    }\n",
       "</style>\n",
       "<table border=\"1\" class=\"dataframe\">\n",
       "  <thead>\n",
       "    <tr style=\"text-align: right;\">\n",
       "      <th></th>\n",
       "      <th>name</th>\n",
       "      <th>field_type</th>\n",
       "      <th>description</th>\n",
       "      <th>dataset-id</th>\n",
       "      <th>dataset_link</th>\n",
       "      <th>portal</th>\n",
       "    </tr>\n",
       "    <tr>\n",
       "      <th>field_name</th>\n",
       "      <th></th>\n",
       "      <th></th>\n",
       "      <th></th>\n",
       "      <th></th>\n",
       "      <th></th>\n",
       "      <th></th>\n",
       "    </tr>\n",
       "  </thead>\n",
       "  <tbody>\n",
       "    <tr>\n",
       "      <td>zip_code</td>\n",
       "      <td>10</td>\n",
       "      <td>5</td>\n",
       "      <td>24</td>\n",
       "      <td>78</td>\n",
       "      <td>78</td>\n",
       "      <td>1</td>\n",
       "    </tr>\n",
       "    <tr>\n",
       "      <td>council_district</td>\n",
       "      <td>9</td>\n",
       "      <td>4</td>\n",
       "      <td>33</td>\n",
       "      <td>231</td>\n",
       "      <td>231</td>\n",
       "      <td>1</td>\n",
       "    </tr>\n",
       "    <tr>\n",
       "      <td>zipcode</td>\n",
       "      <td>8</td>\n",
       "      <td>4</td>\n",
       "      <td>23</td>\n",
       "      <td>52</td>\n",
       "      <td>52</td>\n",
       "      <td>1</td>\n",
       "    </tr>\n",
       "    <tr>\n",
       "      <td>geocoded_column</td>\n",
       "      <td>8</td>\n",
       "      <td>2</td>\n",
       "      <td>3</td>\n",
       "      <td>38</td>\n",
       "      <td>38</td>\n",
       "      <td>1</td>\n",
       "    </tr>\n",
       "    <tr>\n",
       "      <td>boro</td>\n",
       "      <td>8</td>\n",
       "      <td>4</td>\n",
       "      <td>22</td>\n",
       "      <td>98</td>\n",
       "      <td>98</td>\n",
       "      <td>1</td>\n",
       "    </tr>\n",
       "    <tr>\n",
       "      <td>address</td>\n",
       "      <td>8</td>\n",
       "      <td>2</td>\n",
       "      <td>37</td>\n",
       "      <td>108</td>\n",
       "      <td>108</td>\n",
       "      <td>1</td>\n",
       "    </tr>\n",
       "    <tr>\n",
       "      <td>type</td>\n",
       "      <td>8</td>\n",
       "      <td>3</td>\n",
       "      <td>23</td>\n",
       "      <td>50</td>\n",
       "      <td>50</td>\n",
       "      <td>1</td>\n",
       "    </tr>\n",
       "    <tr>\n",
       "      <td>name</td>\n",
       "      <td>7</td>\n",
       "      <td>2</td>\n",
       "      <td>29</td>\n",
       "      <td>87</td>\n",
       "      <td>87</td>\n",
       "      <td>1</td>\n",
       "    </tr>\n",
       "    <tr>\n",
       "      <td>state</td>\n",
       "      <td>7</td>\n",
       "      <td>2</td>\n",
       "      <td>27</td>\n",
       "      <td>105</td>\n",
       "      <td>105</td>\n",
       "      <td>1</td>\n",
       "    </tr>\n",
       "    <tr>\n",
       "      <td>street_name</td>\n",
       "      <td>7</td>\n",
       "      <td>2</td>\n",
       "      <td>19</td>\n",
       "      <td>69</td>\n",
       "      <td>69</td>\n",
       "      <td>1</td>\n",
       "    </tr>\n",
       "  </tbody>\n",
       "</table>\n",
       "</div>"
      ],
      "text/plain": [
       "                  name  field_type  description  dataset-id  dataset_link  \\\n",
       "field_name                                                                  \n",
       "zip_code            10           5           24          78            78   \n",
       "council_district     9           4           33         231           231   \n",
       "zipcode              8           4           23          52            52   \n",
       "geocoded_column      8           2            3          38            38   \n",
       "boro                 8           4           22          98            98   \n",
       "address              8           2           37         108           108   \n",
       "type                 8           3           23          50            50   \n",
       "name                 7           2           29          87            87   \n",
       "state                7           2           27         105           105   \n",
       "street_name          7           2           19          69            69   \n",
       "\n",
       "                  portal  \n",
       "field_name                \n",
       "zip_code               1  \n",
       "council_district       1  \n",
       "zipcode                1  \n",
       "geocoded_column        1  \n",
       "boro                   1  \n",
       "address                1  \n",
       "type                   1  \n",
       "name                   1  \n",
       "state                  1  \n",
       "street_name            1  "
      ]
     },
     "execution_count": 51,
     "metadata": {},
     "output_type": "execute_result"
    }
   ],
   "source": [
    "values_per_field_name.iloc[:10]"
   ]
  },
  {
   "cell_type": "code",
   "execution_count": 52,
   "metadata": {
    "collapsed": true,
    "jupyter": {
     "outputs_hidden": true
    }
   },
   "outputs": [
    {
     "data": {
      "text/plain": [
       "['zip_code', 'council_district']"
      ]
     },
     "execution_count": 52,
     "metadata": {},
     "output_type": "execute_result"
    }
   ],
   "source": [
    "worst_field_names = values_per_field_name[values_per_field_name['name'] >= 9].index.tolist()\n",
    "worst_field_names"
   ]
  },
  {
   "cell_type": "code",
   "execution_count": 53,
   "metadata": {
    "collapsed": true,
    "jupyter": {
     "outputs_hidden": true
    }
   },
   "outputs": [
    {
     "data": {
      "text/html": [
       "<div>\n",
       "<style scoped>\n",
       "    .dataframe tbody tr th:only-of-type {\n",
       "        vertical-align: middle;\n",
       "    }\n",
       "\n",
       "    .dataframe tbody tr th {\n",
       "        vertical-align: top;\n",
       "    }\n",
       "\n",
       "    .dataframe thead th {\n",
       "        text-align: right;\n",
       "    }\n",
       "</style>\n",
       "<table border=\"1\" class=\"dataframe\">\n",
       "  <thead>\n",
       "    <tr style=\"text-align: right;\">\n",
       "      <th></th>\n",
       "      <th>field_name</th>\n",
       "      <th>name</th>\n",
       "      <th>count</th>\n",
       "    </tr>\n",
       "  </thead>\n",
       "  <tbody>\n",
       "    <tr>\n",
       "      <td>673</td>\n",
       "      <td>council_district</td>\n",
       "      <td>COUNCIL DISTRICT</td>\n",
       "      <td>17</td>\n",
       "    </tr>\n",
       "    <tr>\n",
       "      <td>674</td>\n",
       "      <td>council_district</td>\n",
       "      <td>COUNCIL_DISTRICT</td>\n",
       "      <td>13</td>\n",
       "    </tr>\n",
       "    <tr>\n",
       "      <td>675</td>\n",
       "      <td>council_district</td>\n",
       "      <td>Community Board</td>\n",
       "      <td>1</td>\n",
       "    </tr>\n",
       "    <tr>\n",
       "      <td>676</td>\n",
       "      <td>council_district</td>\n",
       "      <td>Council District</td>\n",
       "      <td>193</td>\n",
       "    </tr>\n",
       "    <tr>\n",
       "      <td>677</td>\n",
       "      <td>council_district</td>\n",
       "      <td>Council District</td>\n",
       "      <td>1</td>\n",
       "    </tr>\n",
       "    <tr>\n",
       "      <td>678</td>\n",
       "      <td>council_district</td>\n",
       "      <td>Council-district</td>\n",
       "      <td>1</td>\n",
       "    </tr>\n",
       "    <tr>\n",
       "      <td>679</td>\n",
       "      <td>council_district</td>\n",
       "      <td>council</td>\n",
       "      <td>1</td>\n",
       "    </tr>\n",
       "    <tr>\n",
       "      <td>680</td>\n",
       "      <td>council_district</td>\n",
       "      <td>council district</td>\n",
       "      <td>2</td>\n",
       "    </tr>\n",
       "    <tr>\n",
       "      <td>681</td>\n",
       "      <td>council_district</td>\n",
       "      <td>council_district</td>\n",
       "      <td>2</td>\n",
       "    </tr>\n",
       "    <tr>\n",
       "      <td>2637</td>\n",
       "      <td>zip_code</td>\n",
       "      <td>EventZipCode</td>\n",
       "      <td>3</td>\n",
       "    </tr>\n",
       "    <tr>\n",
       "      <td>2638</td>\n",
       "      <td>zip_code</td>\n",
       "      <td>POSTCODE</td>\n",
       "      <td>4</td>\n",
       "    </tr>\n",
       "    <tr>\n",
       "      <td>2639</td>\n",
       "      <td>zip_code</td>\n",
       "      <td>Post Code</td>\n",
       "      <td>2</td>\n",
       "    </tr>\n",
       "    <tr>\n",
       "      <td>2640</td>\n",
       "      <td>zip_code</td>\n",
       "      <td>Postcode</td>\n",
       "      <td>28</td>\n",
       "    </tr>\n",
       "    <tr>\n",
       "      <td>2641</td>\n",
       "      <td>zip_code</td>\n",
       "      <td>ZIP CODE</td>\n",
       "      <td>4</td>\n",
       "    </tr>\n",
       "    <tr>\n",
       "      <td>2642</td>\n",
       "      <td>zip_code</td>\n",
       "      <td>ZIP Code</td>\n",
       "      <td>4</td>\n",
       "    </tr>\n",
       "    <tr>\n",
       "      <td>2643</td>\n",
       "      <td>zip_code</td>\n",
       "      <td>ZIP_CODE</td>\n",
       "      <td>6</td>\n",
       "    </tr>\n",
       "    <tr>\n",
       "      <td>2644</td>\n",
       "      <td>zip_code</td>\n",
       "      <td>Zip \\nCode</td>\n",
       "      <td>1</td>\n",
       "    </tr>\n",
       "    <tr>\n",
       "      <td>2645</td>\n",
       "      <td>zip_code</td>\n",
       "      <td>Zip Code</td>\n",
       "      <td>25</td>\n",
       "    </tr>\n",
       "    <tr>\n",
       "      <td>2646</td>\n",
       "      <td>zip_code</td>\n",
       "      <td>zip_code</td>\n",
       "      <td>1</td>\n",
       "    </tr>\n",
       "  </tbody>\n",
       "</table>\n",
       "</div>"
      ],
      "text/plain": [
       "            field_name               name  count\n",
       "673   council_district   COUNCIL DISTRICT     17\n",
       "674   council_district   COUNCIL_DISTRICT     13\n",
       "675   council_district    Community Board      1\n",
       "676   council_district   Council District    193\n",
       "677   council_district  Council District       1\n",
       "678   council_district   Council-district      1\n",
       "679   council_district            council      1\n",
       "680   council_district   council district      2\n",
       "681   council_district   council_district      2\n",
       "2637          zip_code       EventZipCode      3\n",
       "2638          zip_code           POSTCODE      4\n",
       "2639          zip_code          Post Code      2\n",
       "2640          zip_code           Postcode     28\n",
       "2641          zip_code           ZIP CODE      4\n",
       "2642          zip_code           ZIP Code      4\n",
       "2643          zip_code           ZIP_CODE      6\n",
       "2644          zip_code         Zip \\nCode      1\n",
       "2645          zip_code           Zip Code     25\n",
       "2646          zip_code           zip_code      1"
      ]
     },
     "execution_count": 53,
     "metadata": {},
     "output_type": "execute_result"
    }
   ],
   "source": [
    "name_and_field_name_pairs = common_columns_df.groupby(['field_name', 'name']).size().reset_index().rename(columns={0 : 'count'})\n",
    "name_and_field_name_pairs[name_and_field_name_pairs['field_name'].isin(worst_field_names)]"
   ]
  },
  {
   "cell_type": "markdown",
   "metadata": {},
   "source": [
    "### Investigate the distribution of field types\n",
    "We should (probably?) only match field names if for columns with the same field type"
   ]
  },
  {
   "cell_type": "code",
   "execution_count": 9,
   "metadata": {
    "collapsed": true,
    "jupyter": {
     "outputs_hidden": true
    }
   },
   "outputs": [
    {
     "data": {
      "text/plain": [
       "Text             11885\n",
       "Number            7388\n",
       "text              3262\n",
       "number            2568\n",
       "Calendar date      296\n",
       "Point              179\n",
       "calendar_date      136\n",
       "point               62\n",
       "Checkbox            18\n",
       "URL                 13\n",
       "date                12\n",
       "MultiPolygon        11\n",
       "Date                10\n",
       "MultiLine            2\n",
       "checkbox             1\n",
       "multipolygon         1\n",
       "url                  1\n",
       "Name: field_type, dtype: int64"
      ]
     },
     "execution_count": 9,
     "metadata": {},
     "output_type": "execute_result"
    }
   ],
   "source": [
    "common_columns_df.field_type.value_counts()"
   ]
  },
  {
   "cell_type": "code",
   "execution_count": 56,
   "metadata": {
    "collapsed": true,
    "jupyter": {
     "outputs_hidden": true
    }
   },
   "outputs": [],
   "source": [
    "# Based on the above, I would recommend the following mapping to identify similar field types\n",
    "def clean_field_types(column):\n",
    "    new_column = column.str.lower().str.replace('_', ' ')\n",
    "    return new_column.replace('calendar date', 'date')\n",
    "\n",
    "common_columns_df.field_type = clean_field_types(common_columns_df.field_type)"
   ]
  },
  {
   "cell_type": "code",
   "execution_count": 57,
   "metadata": {
    "collapsed": true,
    "jupyter": {
     "outputs_hidden": true
    }
   },
   "outputs": [
    {
     "data": {
      "text/plain": [
       "text            15147\n",
       "number           9956\n",
       "date              454\n",
       "point             241\n",
       "checkbox           19\n",
       "url                14\n",
       "multipolygon       12\n",
       "multiline           2\n",
       "Name: field_type, dtype: int64"
      ]
     },
     "execution_count": 57,
     "metadata": {},
     "output_type": "execute_result"
    }
   ],
   "source": [
    "common_columns_df.field_type.value_counts()"
   ]
  },
  {
   "cell_type": "markdown",
   "metadata": {},
   "source": [
    "### Let's investigate columns with field_type=date\n",
    "There are 62 different `field_name` values with `field_type=date`. At first glance, it seems like these could be mapped to a smaller set of around 30 unique `field_name` values using some combination of fuzzy string matching or a simple NLP. From there, Scout could potentially filter datasets which have a matching datetime column and some overlapping time series within those columns."
   ]
  },
  {
   "cell_type": "code",
   "execution_count": 71,
   "metadata": {
    "collapsed": true,
    "jupyter": {
     "outputs_hidden": true
    }
   },
   "outputs": [
    {
     "data": {
      "text/plain": [
       "62"
      ]
     },
     "execution_count": 71,
     "metadata": {},
     "output_type": "execute_result"
    }
   ],
   "source": [
    "# Most common field names\n",
    "date_columns_df = common_columns_df[common_columns_df['field_type'] == 'date'].copy()\n",
    "date_column_counts = date_columns_df.field_name.value_counts()\n",
    "len(date_column_counts)"
   ]
  },
  {
   "cell_type": "markdown",
   "metadata": {},
   "source": [
    "The main thing I notice here is that we need a simple text matching for things like `closed_date` <--> `date_closed`. The problem I foresee running into is that with some of the less-common columns like `event_date` we can try to map it onto something more common, but we don't know what other columns are in the dataset(s) along with it so we can't guarantee an injective mapping onto the column names and could end up with duplicates. "
   ]
  },
  {
   "cell_type": "code",
   "execution_count": 13,
   "metadata": {
    "collapsed": true,
    "jupyter": {
     "outputs_hidden": true
    }
   },
   "outputs": [
    {
     "data": {
      "image/png": "[encoded data removed]",
      "text/plain": [
       "<Figure size 1440x432 with 1 Axes>"
      ]
     },
     "metadata": {
      "needs_background": "light"
     },
     "output_type": "display_data"
    }
   ],
   "source": [
    "fig, ax = plt.subplots(1, 1, figsize=(20, 6))\n",
    "sns.barplot(x=date_column_counts.index, y=date_column_counts.values)\n",
    "plt.xticks(rotation=90);"
   ]
  },
  {
   "cell_type": "markdown",
   "metadata": {},
   "source": [
    "### How reliable are the field types when it comes to datetime categories?\n",
    "Here we see that 48 dataframes have column with the words \"date\" or \"time' that is categorized as some other field. If included in the `type=date`, this would comprise about 10% of the data so it may be important to identify all columns with the words \"date\" or \"time\" as potential datetime columns. I am not sure about the one called `date_status`."
   ]
  },
  {
   "cell_type": "code",
   "execution_count": 65,
   "metadata": {
    "collapsed": true,
    "jupyter": {
     "outputs_hidden": true
    }
   },
   "outputs": [
    {
     "name": "stdout",
     "output_type": "stream",
     "text": [
      "48\n"
     ]
    },
    {
     "data": {
      "text/html": [
       "<div>\n",
       "<style scoped>\n",
       "    .dataframe tbody tr th:only-of-type {\n",
       "        vertical-align: middle;\n",
       "    }\n",
       "\n",
       "    .dataframe tbody tr th {\n",
       "        vertical-align: top;\n",
       "    }\n",
       "\n",
       "    .dataframe thead th {\n",
       "        text-align: right;\n",
       "    }\n",
       "</style>\n",
       "<table border=\"1\" class=\"dataframe\">\n",
       "  <thead>\n",
       "    <tr style=\"text-align: right;\">\n",
       "      <th></th>\n",
       "      <th>field_type</th>\n",
       "      <th>field_name</th>\n",
       "      <th>0</th>\n",
       "    </tr>\n",
       "  </thead>\n",
       "  <tbody>\n",
       "    <tr>\n",
       "      <td>0</td>\n",
       "      <td>number</td>\n",
       "      <td>date_first_observed</td>\n",
       "      <td>6</td>\n",
       "    </tr>\n",
       "    <tr>\n",
       "      <td>1</td>\n",
       "      <td>text</td>\n",
       "      <td>date</td>\n",
       "      <td>20</td>\n",
       "    </tr>\n",
       "    <tr>\n",
       "      <td>2</td>\n",
       "      <td>text</td>\n",
       "      <td>date_status</td>\n",
       "      <td>5</td>\n",
       "    </tr>\n",
       "    <tr>\n",
       "      <td>3</td>\n",
       "      <td>text</td>\n",
       "      <td>time</td>\n",
       "      <td>10</td>\n",
       "    </tr>\n",
       "    <tr>\n",
       "      <td>4</td>\n",
       "      <td>text</td>\n",
       "      <td>time_first_observed</td>\n",
       "      <td>7</td>\n",
       "    </tr>\n",
       "  </tbody>\n",
       "</table>\n",
       "</div>"
      ],
      "text/plain": [
       "  field_type           field_name   0\n",
       "0     number  date_first_observed   6\n",
       "1       text                 date  20\n",
       "2       text          date_status   5\n",
       "3       text                 time  10\n",
       "4       text  time_first_observed   7"
      ]
     },
     "execution_count": 65,
     "metadata": {},
     "output_type": "execute_result"
    }
   ],
   "source": [
    "other_types_df = common_columns_df[common_columns_df['field_type'] != 'date']\n",
    "other_types_df_with_datetime = other_types_df[other_types_df.field_name.str.match('date|time')]\n",
    "\n",
    "print(len(other_types_df_with_datetime))\n",
    "other_types_df_with_datetime.groupby(['field_type', 'field_name']).size().reset_index()"
   ]
  },
  {
   "cell_type": "markdown",
   "metadata": {},
   "source": [
    "Add `field_name` values with `field_type = number, text` to the date column dataframe. Thankfully, this only adds 3 new `field_name` values into the mix."
   ]
  },
  {
   "cell_type": "code",
   "execution_count": 74,
   "metadata": {
    "collapsed": true,
    "jupyter": {
     "outputs_hidden": true
    }
   },
   "outputs": [
    {
     "data": {
      "text/plain": [
       "65"
      ]
     },
     "execution_count": 74,
     "metadata": {},
     "output_type": "execute_result"
    }
   ],
   "source": [
    "date_columns_df = pd.concat((date_columns_df, other_types_df_with_datetime))\n",
    "len(date_columns_df.field_name.unique())"
   ]
  },
  {
   "cell_type": "code",
   "execution_count": null,
   "metadata": {
    "collapsed": true,
    "jupyter": {
     "outputs_hidden": true
    }
   },
   "outputs": [],
   "source": []
  }
 ],
 "metadata": {
  "kernelspec": {
   "display_name": "Python 3",
   "language": "python",
   "name": "python3"
  },
  "language_info": {
   "codemirror_mode": {
    "name": "ipython",
    "version": 3
   },
   "file_extension": ".py",
   "mimetype": "text/x-python",
   "name": "python",
   "nbconvert_exporter": "python",
   "pygments_lexer": "ipython3",
   "version": "3.6.8"
  }
 },
 "nbformat": 4,
 "nbformat_minor": 4
}
