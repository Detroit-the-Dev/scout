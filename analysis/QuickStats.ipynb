{
 "cells": [
  {
   "cell_type": "code",
   "execution_count": 49,
   "metadata": {},
   "outputs": [],
   "source": [
    "import pandas as pd\n",
    "import matplotlib.pyplot as plt\n",
    "import json"
   ]
  },
  {
   "cell_type": "code",
   "execution_count": 5,
   "metadata": {},
   "outputs": [],
   "source": [
    "columns =  pd.read_csv('nyc_columns.csv')"
   ]
  },
  {
   "cell_type": "code",
   "execution_count": 9,
   "metadata": {},
   "outputs": [
    {
     "data": {
      "text/plain": [
       "15909"
      ]
     },
     "execution_count": 9,
     "metadata": {},
     "output_type": "execute_result"
    }
   ],
   "source": [
    "columns.field_name.unique().shape[0]"
   ]
  },
  {
   "cell_type": "code",
   "execution_count": 14,
   "metadata": {},
   "outputs": [],
   "source": [
    "with open('NYC Columns_v2.json') as f:\n",
    "    mappings  = json.load(f)"
   ]
  },
  {
   "cell_type": "code",
   "execution_count": 18,
   "metadata": {},
   "outputs": [
    {
     "data": {
      "text/plain": [
       "65"
      ]
     },
     "execution_count": 18,
     "metadata": {},
     "output_type": "execute_result"
    }
   ],
   "source": [
    "len(mappings['mappings'])"
   ]
  },
  {
   "cell_type": "code",
   "execution_count": 26,
   "metadata": {},
   "outputs": [],
   "source": [
    "total_entries = 0\n",
    "entry_names = []\n",
    "for m in mappings['mappings']:\n",
    "    total_entries += len(m[\"entries\"]) \n",
    "    entry_names = entry_names + m['entries']"
   ]
  },
  {
   "cell_type": "code",
   "execution_count": 22,
   "metadata": {},
   "outputs": [
    {
     "data": {
      "text/plain": [
       "436"
      ]
     },
     "execution_count": 22,
     "metadata": {},
     "output_type": "execute_result"
    }
   ],
   "source": [
    "total_entries"
   ]
  },
  {
   "cell_type": "code",
   "execution_count": 34,
   "metadata": {},
   "outputs": [],
   "source": [
    "total_ocurrances = 0\n",
    "for entry in entry_names:\n",
    "    total_ocurrances += [e for e in mappings['entries'] if e['name'] == entry][0]['count']"
   ]
  },
  {
   "cell_type": "code",
   "execution_count": 35,
   "metadata": {},
   "outputs": [
    {
     "data": {
      "text/plain": [
       "9017"
      ]
     },
     "execution_count": 35,
     "metadata": {},
     "output_type": "execute_result"
    }
   ],
   "source": [
    "total_ocurrances"
   ]
  },
  {
   "cell_type": "code",
   "execution_count": 39,
   "metadata": {},
   "outputs": [],
   "source": [
    "total_entry_counts = 0\n",
    "for e in mappings['entries']:\n",
    "    total_entry_counts += e['count']"
   ]
  },
  {
   "cell_type": "code",
   "execution_count": 38,
   "metadata": {},
   "outputs": [
    {
     "data": {
      "text/plain": [
       "3.74149377593361"
      ]
     },
     "execution_count": 38,
     "metadata": {},
     "output_type": "execute_result"
    }
   ],
   "source": [
    "9017/2410"
   ]
  },
  {
   "cell_type": "code",
   "execution_count": 41,
   "metadata": {},
   "outputs": [
    {
     "data": {
      "text/plain": [
       "34.909020518776614"
      ]
     },
     "execution_count": 41,
     "metadata": {},
     "output_type": "execute_result"
    }
   ],
   "source": [
    "total_ocurrances*100/total_entry_counts"
   ]
  },
  {
   "cell_type": "code",
   "execution_count": 44,
   "metadata": {},
   "outputs": [
    {
     "data": {
      "text/html": [
       "<div>\n",
       "<style scoped>\n",
       "    .dataframe tbody tr th:only-of-type {\n",
       "        vertical-align: middle;\n",
       "    }\n",
       "\n",
       "    .dataframe tbody tr th {\n",
       "        vertical-align: top;\n",
       "    }\n",
       "\n",
       "    .dataframe thead th {\n",
       "        text-align: right;\n",
       "    }\n",
       "</style>\n",
       "<table border=\"1\" class=\"dataframe\">\n",
       "  <thead>\n",
       "    <tr style=\"text-align: right;\">\n",
       "      <th></th>\n",
       "      <th>name</th>\n",
       "      <th>field_type</th>\n",
       "      <th>field_name</th>\n",
       "      <th>description</th>\n",
       "      <th>dataset-id</th>\n",
       "      <th>dataset_link</th>\n",
       "      <th>portal</th>\n",
       "    </tr>\n",
       "  </thead>\n",
       "  <tbody>\n",
       "    <tr>\n",
       "      <th>865</th>\n",
       "      <td>SCHOOL NAME</td>\n",
       "      <td>Text</td>\n",
       "      <td>school_name</td>\n",
       "      <td>NaN</td>\n",
       "      <td>f9bf-2cp4</td>\n",
       "      <td>https://data.cityofnewyork.us/d/f9bf-2cp4</td>\n",
       "      <td>data.cityofnewyork</td>\n",
       "    </tr>\n",
       "    <tr>\n",
       "      <th>1312</th>\n",
       "      <td>School Name</td>\n",
       "      <td>Text</td>\n",
       "      <td>school_name</td>\n",
       "      <td>NaN</td>\n",
       "      <td>zt9s-n5aj</td>\n",
       "      <td>https://data.cityofnewyork.us/d/zt9s-n5aj</td>\n",
       "      <td>data.cityofnewyork</td>\n",
       "    </tr>\n",
       "    <tr>\n",
       "      <th>1650</th>\n",
       "      <td>COMMUNITYSCHOOLDISTRICT</td>\n",
       "      <td>Number</td>\n",
       "      <td>communityschooldistrict</td>\n",
       "      <td>NaN</td>\n",
       "      <td>76xm-jjuj</td>\n",
       "      <td>https://data.cityofnewyork.us/d/76xm-jjuj</td>\n",
       "      <td>data.cityofnewyork</td>\n",
       "    </tr>\n",
       "    <tr>\n",
       "      <th>1827</th>\n",
       "      <td>School Dist</td>\n",
       "      <td>text</td>\n",
       "      <td>school_dist</td>\n",
       "      <td>The community school district that the tax lot...</td>\n",
       "      <td>4e2n-s75z</td>\n",
       "      <td>https://data.cityofnewyork.us/d/4e2n-s75z</td>\n",
       "      <td>data.cityofnewyork</td>\n",
       "    </tr>\n",
       "    <tr>\n",
       "      <th>1965</th>\n",
       "      <td>COMMUNITYSCHOOLDISTRICT</td>\n",
       "      <td>Number</td>\n",
       "      <td>communityschooldistrict</td>\n",
       "      <td>NaN</td>\n",
       "      <td>8m42-w767</td>\n",
       "      <td>https://data.cityofnewyork.us/d/8m42-w767</td>\n",
       "      <td>data.cityofnewyork</td>\n",
       "    </tr>\n",
       "    <tr>\n",
       "      <th>...</th>\n",
       "      <td>...</td>\n",
       "      <td>...</td>\n",
       "      <td>...</td>\n",
       "      <td>...</td>\n",
       "      <td>...</td>\n",
       "      <td>...</td>\n",
       "      <td>...</td>\n",
       "    </tr>\n",
       "    <tr>\n",
       "      <th>47308</th>\n",
       "      <td>School Name</td>\n",
       "      <td>Text</td>\n",
       "      <td>school_name</td>\n",
       "      <td>NaN</td>\n",
       "      <td>5hcy-6f3q</td>\n",
       "      <td>https://data.cityofnewyork.us/d/5hcy-6f3q</td>\n",
       "      <td>data.cityofnewyork</td>\n",
       "    </tr>\n",
       "    <tr>\n",
       "      <th>47371</th>\n",
       "      <td>Community School District</td>\n",
       "      <td>Number</td>\n",
       "      <td>community_school_district</td>\n",
       "      <td>NaN</td>\n",
       "      <td>mhpm-4ekb</td>\n",
       "      <td>https://data.cityofnewyork.us/d/mhpm-4ekb</td>\n",
       "      <td>data.cityofnewyork</td>\n",
       "    </tr>\n",
       "    <tr>\n",
       "      <th>47372</th>\n",
       "      <td>School DBN</td>\n",
       "      <td>Text</td>\n",
       "      <td>school_dbn</td>\n",
       "      <td>NaN</td>\n",
       "      <td>mhpm-4ekb</td>\n",
       "      <td>https://data.cityofnewyork.us/d/mhpm-4ekb</td>\n",
       "      <td>data.cityofnewyork</td>\n",
       "    </tr>\n",
       "    <tr>\n",
       "      <th>47373</th>\n",
       "      <td>School Year</td>\n",
       "      <td>Text</td>\n",
       "      <td>school_year</td>\n",
       "      <td>NaN</td>\n",
       "      <td>mhpm-4ekb</td>\n",
       "      <td>https://data.cityofnewyork.us/d/mhpm-4ekb</td>\n",
       "      <td>data.cityofnewyork</td>\n",
       "    </tr>\n",
       "    <tr>\n",
       "      <th>47376</th>\n",
       "      <td>School Name</td>\n",
       "      <td>Text</td>\n",
       "      <td>school_name</td>\n",
       "      <td>NaN</td>\n",
       "      <td>mhpm-4ekb</td>\n",
       "      <td>https://data.cityofnewyork.us/d/mhpm-4ekb</td>\n",
       "      <td>data.cityofnewyork</td>\n",
       "    </tr>\n",
       "  </tbody>\n",
       "</table>\n",
       "<p>1007 rows × 7 columns</p>\n",
       "</div>"
      ],
      "text/plain": [
       "                            name field_type                 field_name  \\\n",
       "865                  SCHOOL NAME       Text                school_name   \n",
       "1312                 School Name       Text                school_name   \n",
       "1650     COMMUNITYSCHOOLDISTRICT     Number    communityschooldistrict   \n",
       "1827                 School Dist       text                school_dist   \n",
       "1965     COMMUNITYSCHOOLDISTRICT     Number    communityschooldistrict   \n",
       "...                          ...        ...                        ...   \n",
       "47308                School Name       Text                school_name   \n",
       "47371  Community School District     Number  community_school_district   \n",
       "47372                 School DBN       Text                 school_dbn   \n",
       "47373                School Year       Text                school_year   \n",
       "47376                School Name       Text                school_name   \n",
       "\n",
       "                                             description dataset-id  \\\n",
       "865                                                  NaN  f9bf-2cp4   \n",
       "1312                                                 NaN  zt9s-n5aj   \n",
       "1650                                                 NaN  76xm-jjuj   \n",
       "1827   The community school district that the tax lot...  4e2n-s75z   \n",
       "1965                                                 NaN  8m42-w767   \n",
       "...                                                  ...        ...   \n",
       "47308                                                NaN  5hcy-6f3q   \n",
       "47371                                                NaN  mhpm-4ekb   \n",
       "47372                                                NaN  mhpm-4ekb   \n",
       "47373                                                NaN  mhpm-4ekb   \n",
       "47376                                                NaN  mhpm-4ekb   \n",
       "\n",
       "                                    dataset_link              portal  \n",
       "865    https://data.cityofnewyork.us/d/f9bf-2cp4  data.cityofnewyork  \n",
       "1312   https://data.cityofnewyork.us/d/zt9s-n5aj  data.cityofnewyork  \n",
       "1650   https://data.cityofnewyork.us/d/76xm-jjuj  data.cityofnewyork  \n",
       "1827   https://data.cityofnewyork.us/d/4e2n-s75z  data.cityofnewyork  \n",
       "1965   https://data.cityofnewyork.us/d/8m42-w767  data.cityofnewyork  \n",
       "...                                          ...                 ...  \n",
       "47308  https://data.cityofnewyork.us/d/5hcy-6f3q  data.cityofnewyork  \n",
       "47371  https://data.cityofnewyork.us/d/mhpm-4ekb  data.cityofnewyork  \n",
       "47372  https://data.cityofnewyork.us/d/mhpm-4ekb  data.cityofnewyork  \n",
       "47373  https://data.cityofnewyork.us/d/mhpm-4ekb  data.cityofnewyork  \n",
       "47376  https://data.cityofnewyork.us/d/mhpm-4ekb  data.cityofnewyork  \n",
       "\n",
       "[1007 rows x 7 columns]"
      ]
     },
     "execution_count": 44,
     "metadata": {},
     "output_type": "execute_result"
    }
   ],
   "source": [
    "columns[columns.field_name.str.contains('school',case=False)]"
   ]
  },
  {
   "cell_type": "code",
   "execution_count": 46,
   "metadata": {},
   "outputs": [],
   "source": [
    "counts  = [columns.field_name.unique().shape[0], columns.name.unique().shape[0]]"
   ]
  },
  {
   "cell_type": "code",
   "execution_count": 69,
   "metadata": {},
   "outputs": [],
   "source": [
    "\n",
    "SMALL_SIZE = 10\n",
    "MEDIUM_SIZE = 10\n",
    "BIGGER_SIZE = 12\n",
    "\n",
    "plt.rc('font', size=SMALL_SIZE)          # controls default text sizes\n",
    "plt.rc('axes', titlesize=SMALL_SIZE)     # fontsize of the axes title\n",
    "plt.rc('axes', labelsize=MEDIUM_SIZE)    # fontsize of the x and y labels\n",
    "plt.rc('xtick', labelsize=SMALL_SIZE)    # fontsize of the tick labels\n",
    "plt.rc('ytick', labelsize=SMALL_SIZE)    # fontsize of the tick labels\n",
    "plt.rc('legend', fontsize=SMALL_SIZE)    # legend fontsize\n",
    "plt.rc('figure', titlesize=BIGGER_SIZE)  # fontsize of the figure title"
   ]
  },
  {
   "cell_type": "code",
   "execution_count": 70,
   "metadata": {},
   "outputs": [
    {
     "data": {
      "text/plain": [
       "Text(0, 0.5, 'Number of Unique')"
      ]
     },
     "execution_count": 70,
     "metadata": {},
     "output_type": "execute_result"
    },
    {
     "data": {
      "image/png": "[encoded data removed]",
      "text/plain": [
       "<Figure size 432x288 with 1 Axes>"
      ]
     },
     "metadata": {
      "needs_background": "light"
     },
     "output_type": "display_data"
    }
   ],
   "source": [
    "plt.bar(['Field Name', \"Human Readable Name\"], counts)\n",
    "plt.ylabel(\"Number of Unique\")"
   ]
  },
  {
   "cell_type": "code",
   "execution_count": 72,
   "metadata": {},
   "outputs": [
    {
     "data": {
      "text/plain": [
       "(47419,)"
      ]
     },
     "execution_count": 72,
     "metadata": {},
     "output_type": "execute_result"
    }
   ],
   "source": [
    "columns.field_name.shape"
   ]
  },
  {
   "cell_type": "code",
   "execution_count": 76,
   "metadata": {},
   "outputs": [
    {
     "data": {
      "text/plain": [
       "2117"
      ]
     },
     "execution_count": 76,
     "metadata": {},
     "output_type": "execute_result"
    }
   ],
   "source": [
    "columns['dataset-id'].unique().shape[0]"
   ]
  },
  {
   "cell_type": "code",
   "execution_count": 78,
   "metadata": {},
   "outputs": [
    {
     "data": {
      "text/plain": [
       "[15909, 17025]"
      ]
     },
     "execution_count": 78,
     "metadata": {},
     "output_type": "execute_result"
    }
   ],
   "source": [
    "[columns.field_name.unique().shape[0], columns.name.unique().shape[0]]"
   ]
  },
  {
   "cell_type": "code",
   "execution_count": null,
   "metadata": {},
   "outputs": [],
   "source": []
  }
 ],
 "metadata": {
  "kernelspec": {
   "display_name": "Python 3",
   "language": "python",
   "name": "python3"
  },
  "language_info": {
   "codemirror_mode": {
    "name": "ipython",
    "version": 3
   },
   "file_extension": ".py",
   "mimetype": "text/x-python",
   "name": "python",
   "nbconvert_exporter": "python",
   "pygments_lexer": "ipython3",
   "version": "3.8.3"
  }
 },
 "nbformat": 4,
 "nbformat_minor": 4
}
