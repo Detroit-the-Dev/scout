{
 "cells": [
  {
   "cell_type": "code",
   "execution_count": 1,
   "metadata": {},
   "outputs": [],
   "source": [
    "import dedupe, pandas as pd"
   ]
  },
  {
   "cell_type": "code",
   "execution_count": 2,
   "metadata": {},
   "outputs": [],
   "source": [
    "common_columns_df = pd.read_csv(\"nyc_columns_common.csv\", index_col=0)"
   ]
  },
  {
   "cell_type": "code",
   "execution_count": 3,
   "metadata": {},
   "outputs": [],
   "source": [
    "data = common_columns_df[['field_type', 'field_name']].to_dict('index')"
   ]
  },
  {
   "cell_type": "code",
   "execution_count": 4,
   "metadata": {},
   "outputs": [],
   "source": [
    "fields = [{'field': 'field_name', 'type': 'String'}, {'field': 'field_type', 'type': 'Exact'}]"
   ]
  },
  {
   "cell_type": "code",
   "execution_count": 5,
   "metadata": {},
   "outputs": [],
   "source": [
    "deduper = dedupe.Dedupe(fields)"
   ]
  },
  {
   "cell_type": "code",
   "execution_count": 6,
   "metadata": {},
   "outputs": [
    {
     "name": "stderr",
     "output_type": "stream",
     "text": [
      "INFO:dedupe.training:Final predicate set:\n",
      "INFO:dedupe.training:(SimplePredicate: (wholeFieldPredicate, field_type), TfidfTextCanopyPredicate: (0.8, field_name))\n"
     ]
    }
   ],
   "source": [
    "deduper.prepare_training(data)"
   ]
  },
  {
   "cell_type": "code",
   "execution_count": 25,
   "metadata": {},
   "outputs": [
    {
     "name": "stderr",
     "output_type": "stream",
     "text": [
      "field_name : council_district\n",
      "field_type : Text\n",
      "\n",
      "field_name : council_district\n",
      "field_type : Number\n",
      "\n",
      "0/10 positive, 0/10 negative\n",
      "Do these records refer to the same thing?\n",
      "(y)es / (n)o / (u)nsure / (f)inished\n"
     ]
    },
    {
     "name": "stdin",
     "output_type": "stream",
     "text": [
      " y\n"
     ]
    },
    {
     "name": "stderr",
     "output_type": "stream",
     "text": [
      "field_name : borough\n",
      "field_type : text\n",
      "\n",
      "field_name : borough\n",
      "field_type : Text\n",
      "\n",
      "1/10 positive, 0/10 negative\n",
      "Do these records refer to the same thing?\n",
      "(y)es / (n)o / (u)nsure / (f)inished / (p)revious\n"
     ]
    },
    {
     "name": "stdin",
     "output_type": "stream",
     "text": [
      " y\n"
     ]
    },
    {
     "name": "stderr",
     "output_type": "stream",
     "text": [
      "INFO:dedupe.training:Final predicate set:\n",
      "INFO:dedupe.training:(SimplePredicate: (commonSixGram, field_name), TfidfTextCanopyPredicate: (0.4, field_name))\n",
      "field_name : nta\n",
      "field_type : text\n",
      "\n",
      "field_name : nta\n",
      "field_type : Text\n",
      "\n",
      "2/10 positive, 0/10 negative\n",
      "Do these records refer to the same thing?\n",
      "(y)es / (n)o / (u)nsure / (f)inished / (p)revious\n"
     ]
    },
    {
     "name": "stdin",
     "output_type": "stream",
     "text": [
      " y\n"
     ]
    },
    {
     "name": "stderr",
     "output_type": "stream",
     "text": [
      "field_name : year\n",
      "field_type : Text\n",
      "\n",
      "field_name : year\n",
      "field_type : Number\n",
      "\n",
      "3/10 positive, 0/10 negative\n",
      "Do these records refer to the same thing?\n",
      "(y)es / (n)o / (u)nsure / (f)inished / (p)revious\n"
     ]
    },
    {
     "name": "stdin",
     "output_type": "stream",
     "text": [
      " y\n"
     ]
    },
    {
     "name": "stderr",
     "output_type": "stream",
     "text": [
      "INFO:dedupe.training:Final predicate set:\n",
      "INFO:dedupe.training:(TfidfNGramCanopyPredicate: (0.2, field_name), TfidfTextCanopyPredicate: (0.8, field_name))\n",
      "field_name : area\n",
      "field_type : text\n",
      "\n",
      "field_name : year\n",
      "field_type : Text\n",
      "\n",
      "4/10 positive, 0/10 negative\n",
      "Do these records refer to the same thing?\n",
      "(y)es / (n)o / (u)nsure / (f)inished / (p)revious\n"
     ]
    },
    {
     "name": "stdin",
     "output_type": "stream",
     "text": [
      " n\n"
     ]
    },
    {
     "name": "stderr",
     "output_type": "stream",
     "text": [
      "field_name : _2\n",
      "field_type : text\n",
      "\n",
      "field_name : _2\n",
      "field_type : Number\n",
      "\n",
      "4/10 positive, 1/10 negative\n",
      "Do these records refer to the same thing?\n",
      "(y)es / (n)o / (u)nsure / (f)inished / (p)revious\n"
     ]
    },
    {
     "name": "stdin",
     "output_type": "stream",
     "text": [
      " u\n"
     ]
    },
    {
     "name": "stderr",
     "output_type": "stream",
     "text": [
      "field_name : students_with_disabilities_2\n",
      "field_type : Number\n",
      "\n",
      "field_name : students_with_disabilities\n",
      "field_type : Text\n",
      "\n",
      "4/10 positive, 1/10 negative\n",
      "Do these records refer to the same thing?\n",
      "(y)es / (n)o / (u)nsure / (f)inished / (p)revious\n"
     ]
    },
    {
     "name": "stdin",
     "output_type": "stream",
     "text": [
      " y\n"
     ]
    },
    {
     "name": "stderr",
     "output_type": "stream",
     "text": [
      "field_name : geocoded_column\n",
      "field_type : Point\n",
      "\n",
      "field_name : geocoded_column_state\n",
      "field_type : Text\n",
      "\n",
      "5/10 positive, 1/10 negative\n",
      "Do these records refer to the same thing?\n",
      "(y)es / (n)o / (u)nsure / (f)inished / (p)revious\n"
     ]
    },
    {
     "name": "stdin",
     "output_type": "stream",
     "text": [
      " y\n"
     ]
    },
    {
     "name": "stderr",
     "output_type": "stream",
     "text": [
      "INFO:dedupe.training:Final predicate set:\n",
      "INFO:dedupe.training:(LevenshteinCanopyPredicate: (1, field_name), SimplePredicate: (sameSevenCharStartPredicate, field_name))\n",
      "field_name : location_1\n",
      "field_type : Point\n",
      "\n",
      "field_name : location_1_zip\n",
      "field_type : Text\n",
      "\n",
      "6/10 positive, 1/10 negative\n",
      "Do these records refer to the same thing?\n",
      "(y)es / (n)o / (u)nsure / (f)inished / (p)revious\n"
     ]
    },
    {
     "name": "stdin",
     "output_type": "stream",
     "text": [
      " u\n"
     ]
    },
    {
     "name": "stderr",
     "output_type": "stream",
     "text": [
      "INFO:dedupe.training:Final predicate set:\n",
      "INFO:dedupe.training:(LevenshteinCanopyPredicate: (4, field_name), SimplePredicate: (sameSevenCharStartPredicate, field_name))\n",
      "field_name : location_1\n",
      "field_type : Point\n",
      "\n",
      "field_name : location\n",
      "field_type : text\n",
      "\n",
      "6/10 positive, 1/10 negative\n",
      "Do these records refer to the same thing?\n",
      "(y)es / (n)o / (u)nsure / (f)inished / (p)revious\n"
     ]
    },
    {
     "name": "stdin",
     "output_type": "stream",
     "text": [
      " y\n"
     ]
    },
    {
     "name": "stderr",
     "output_type": "stream",
     "text": [
      "field_name : location_1\n",
      "field_type : Point\n",
      "\n",
      "field_name : location\n",
      "field_type : Text\n",
      "\n",
      "7/10 positive, 1/10 negative\n",
      "Do these records refer to the same thing?\n",
      "(y)es / (n)o / (u)nsure / (f)inished / (p)revious\n"
     ]
    },
    {
     "name": "stdin",
     "output_type": "stream",
     "text": [
      " y\n"
     ]
    },
    {
     "name": "stderr",
     "output_type": "stream",
     "text": [
      "INFO:dedupe.training:Final predicate set:\n",
      "INFO:dedupe.training:(SimplePredicate: (sameSevenCharStartPredicate, field_name), TfidfNGramCanopyPredicate: (0.2, field_name))\n",
      "field_name : still_enrolled\n",
      "field_type : Number\n",
      "\n",
      "field_name : still_enrolled_of_cohort\n",
      "field_type : Text\n",
      "\n",
      "8/10 positive, 1/10 negative\n",
      "Do these records refer to the same thing?\n",
      "(y)es / (n)o / (u)nsure / (f)inished / (p)revious\n"
     ]
    },
    {
     "name": "stdin",
     "output_type": "stream",
     "text": [
      " u\n"
     ]
    },
    {
     "name": "stderr",
     "output_type": "stream",
     "text": [
      "field_name : dropped_out_of_cohort\n",
      "field_type : Number\n",
      "\n",
      "field_name : dropped_out\n",
      "field_type : Text\n",
      "\n",
      "8/10 positive, 1/10 negative\n",
      "Do these records refer to the same thing?\n",
      "(y)es / (n)o / (u)nsure / (f)inished / (p)revious\n"
     ]
    },
    {
     "name": "stdin",
     "output_type": "stream",
     "text": [
      " u\n"
     ]
    },
    {
     "name": "stderr",
     "output_type": "stream",
     "text": [
      "field_name : grade_2\n",
      "field_type : Number\n",
      "\n",
      "field_name : grade\n",
      "field_type : Text\n",
      "\n",
      "8/10 positive, 1/10 negative\n",
      "Do these records refer to the same thing?\n",
      "(y)es / (n)o / (u)nsure / (f)inished / (p)revious\n"
     ]
    },
    {
     "name": "stdin",
     "output_type": "stream",
     "text": [
      " y\n"
     ]
    },
    {
     "name": "stderr",
     "output_type": "stream",
     "text": [
      "field_name : grade\n",
      "field_type : Text\n",
      "\n",
      "field_name : grade_8\n",
      "field_type : Number\n",
      "\n",
      "9/10 positive, 1/10 negative\n",
      "Do these records refer to the same thing?\n",
      "(y)es / (n)o / (u)nsure / (f)inished / (p)revious\n"
     ]
    },
    {
     "name": "stdin",
     "output_type": "stream",
     "text": [
      " u\n"
     ]
    },
    {
     "name": "stderr",
     "output_type": "stream",
     "text": [
      "INFO:dedupe.training:Final predicate set:\n",
      "INFO:dedupe.training:(LevenshteinCanopyPredicate: (1, field_name), SimplePredicate: (commonFourGram, field_name))\n",
      "INFO:dedupe.training:(LevenshteinCanopyPredicate: (4, field_name), SimplePredicate: (sameSevenCharStartPredicate, field_name))\n",
      "field_name : dropped_out_pct_of_cohort\n",
      "field_type : Text\n",
      "\n",
      "field_name : dropped_out\n",
      "field_type : Number\n",
      "\n",
      "9/10 positive, 1/10 negative\n",
      "Do these records refer to the same thing?\n",
      "(y)es / (n)o / (u)nsure / (f)inished / (p)revious\n"
     ]
    },
    {
     "name": "stdin",
     "output_type": "stream",
     "text": [
      " n\n"
     ]
    },
    {
     "name": "stderr",
     "output_type": "stream",
     "text": [
      "field_name : school\n",
      "field_type : Number\n",
      "\n",
      "field_name : school_name\n",
      "field_type : Text\n",
      "\n",
      "9/10 positive, 2/10 negative\n",
      "Do these records refer to the same thing?\n",
      "(y)es / (n)o / (u)nsure / (f)inished / (p)revious\n"
     ]
    },
    {
     "name": "stdin",
     "output_type": "stream",
     "text": [
      " y\n"
     ]
    },
    {
     "name": "stderr",
     "output_type": "stream",
     "text": [
      "field_name : location\n",
      "field_type : Point\n",
      "\n",
      "field_name : location_category\n",
      "field_type : Text\n",
      "\n",
      "10/10 positive, 2/10 negative\n",
      "Do these records refer to the same thing?\n",
      "(y)es / (n)o / (u)nsure / (f)inished / (p)revious\n"
     ]
    },
    {
     "name": "stdin",
     "output_type": "stream",
     "text": [
      " f\n"
     ]
    },
    {
     "name": "stderr",
     "output_type": "stream",
     "text": [
      "Finished labeling\n",
      "INFO:dedupe.training:Final predicate set:\n",
      "INFO:dedupe.training:(SimplePredicate: (sameFiveCharStartPredicate, field_name), TfidfNGramCanopyPredicate: (0.2, field_name))\n"
     ]
    }
   ],
   "source": [
    "dedupe.console_label(deduper)"
   ]
  },
  {
   "cell_type": "code",
   "execution_count": 26,
   "metadata": {},
   "outputs": [
    {
     "name": "stderr",
     "output_type": "stream",
     "text": [
      "INFO:rlr.crossvalidation:using cross validation to find optimum alpha...\n",
      "C:\\Users\\jiang\\anaconda3\\envs\\py38\\lib\\site-packages\\rlr\\crossvalidation.py:117: RuntimeWarning: invalid value encountered in double_scalars\n",
      "  matthews_cc = ((true_dupes * true_distinct\n",
      "INFO:rlr.crossvalidation:optimum alpha: 0.001000, score 0.3131313131313131\n",
      "INFO:dedupe.training:Final predicate set:\n",
      "INFO:dedupe.training:(SimplePredicate: (sameFiveCharStartPredicate, field_name), TfidfNGramCanopyPredicate: (0.2, field_name))\n"
     ]
    }
   ],
   "source": [
    "deduper.train()"
   ]
  },
  {
   "cell_type": "code",
   "execution_count": 28,
   "metadata": {},
   "outputs": [
    {
     "name": "stderr",
     "output_type": "stream",
     "text": [
      "INFO:dedupe.blocking:10000, 0.1185802 seconds\n",
      "INFO:dedupe.blocking:20000, 0.2457112 seconds\n"
     ]
    }
   ],
   "source": [
    "clustered_dupes = deduper.partition(data, 0.5)"
   ]
  },
  {
   "cell_type": "code",
   "execution_count": 30,
   "metadata": {},
   "outputs": [],
   "source": [
    "cluster_membership = {}\n",
    "for cluster_id, (records, scores) in enumerate(clustered_dupes):\n",
    "    for record_id, score in zip(records, scores):\n",
    "        cluster_membership[record_id] = cluster_id"
   ]
  },
  {
   "cell_type": "code",
   "execution_count": 59,
   "metadata": {},
   "outputs": [],
   "source": [
    "common_columns_df['cluster'] = common_columns_df.reset_index()['index'].map(cluster_membership).astype('int')"
   ]
  },
  {
   "cell_type": "code",
   "execution_count": 61,
   "metadata": {},
   "outputs": [
    {
     "data": {
      "text/plain": [
       "array([  18.,    5.,   24., ..., 1331., 1332.,   nan])"
      ]
     },
     "execution_count": 61,
     "metadata": {},
     "output_type": "execute_result"
    }
   ],
   "source": [
    "common_columns_df.cluster.unique()"
   ]
  },
  {
   "cell_type": "code",
   "execution_count": 63,
   "metadata": {},
   "outputs": [
    {
     "data": {
      "text/html": [
       "<div>\n",
       "<style scoped>\n",
       "    .dataframe tbody tr th:only-of-type {\n",
       "        vertical-align: middle;\n",
       "    }\n",
       "\n",
       "    .dataframe tbody tr th {\n",
       "        vertical-align: top;\n",
       "    }\n",
       "\n",
       "    .dataframe thead th {\n",
       "        text-align: right;\n",
       "    }\n",
       "</style>\n",
       "<table border=\"1\" class=\"dataframe\">\n",
       "  <thead>\n",
       "    <tr style=\"text-align: right;\">\n",
       "      <th></th>\n",
       "      <th>name</th>\n",
       "      <th>field_type</th>\n",
       "      <th>field_name</th>\n",
       "      <th>description</th>\n",
       "      <th>dataset-id</th>\n",
       "      <th>dataset_link</th>\n",
       "      <th>portal</th>\n",
       "      <th>cluster</th>\n",
       "    </tr>\n",
       "  </thead>\n",
       "  <tbody>\n",
       "    <tr>\n",
       "      <th>6</th>\n",
       "      <td>DOBRunDate</td>\n",
       "      <td>Calendar date</td>\n",
       "      <td>dobrundate</td>\n",
       "      <td>Date when query is run and pushed to Open Data...</td>\n",
       "      <td>ic3t-wcy2</td>\n",
       "      <td>https://data.cityofnewyork.us/d/ic3t-wcy2</td>\n",
       "      <td>data.cityofnewyork</td>\n",
       "      <td>18.0</td>\n",
       "    </tr>\n",
       "    <tr>\n",
       "      <th>55</th>\n",
       "      <td>Owner's Business Name</td>\n",
       "      <td>Text</td>\n",
       "      <td>owner_s_business_name</td>\n",
       "      <td>Business Name of Property Owner</td>\n",
       "      <td>ic3t-wcy2</td>\n",
       "      <td>https://data.cityofnewyork.us/d/ic3t-wcy2</td>\n",
       "      <td>data.cityofnewyork</td>\n",
       "      <td>18.0</td>\n",
       "    </tr>\n",
       "    <tr>\n",
       "      <th>838</th>\n",
       "      <td>Council District</td>\n",
       "      <td>Number</td>\n",
       "      <td>community_council</td>\n",
       "      <td>NaN</td>\n",
       "      <td>dzgh-ja44</td>\n",
       "      <td>https://data.cityofnewyork.us/d/dzgh-ja44</td>\n",
       "      <td>data.cityofnewyork</td>\n",
       "      <td>18.0</td>\n",
       "    </tr>\n",
       "    <tr>\n",
       "      <th>874</th>\n",
       "      <td>STREET</td>\n",
       "      <td>Text</td>\n",
       "      <td>street</td>\n",
       "      <td>NaN</td>\n",
       "      <td>3h2n-5cm9</td>\n",
       "      <td>https://data.cityofnewyork.us/d/3h2n-5cm9</td>\n",
       "      <td>data.cityofnewyork</td>\n",
       "      <td>18.0</td>\n",
       "    </tr>\n",
       "    <tr>\n",
       "      <th>1446</th>\n",
       "      <td>EventCity</td>\n",
       "      <td>Text</td>\n",
       "      <td>city</td>\n",
       "      <td>For public hearings and meetings notices: City...</td>\n",
       "      <td>3khw-qi8f</td>\n",
       "      <td>https://data.cityofnewyork.us/d/3khw-qi8f</td>\n",
       "      <td>data.cityofnewyork</td>\n",
       "      <td>18.0</td>\n",
       "    </tr>\n",
       "    <tr>\n",
       "      <th>2019</th>\n",
       "      <td>From</td>\n",
       "      <td>text</td>\n",
       "      <td>from</td>\n",
       "      <td>Intersecting street name at one end of street\\n</td>\n",
       "      <td>p424-amsu</td>\n",
       "      <td>https://data.cityofnewyork.us/d/p424-amsu</td>\n",
       "      <td>data.cityofnewyork</td>\n",
       "      <td>18.0</td>\n",
       "    </tr>\n",
       "    <tr>\n",
       "      <th>2777</th>\n",
       "      <td>Police Precincts</td>\n",
       "      <td>Number</td>\n",
       "      <td>:@computed_region_sbqj_enih</td>\n",
       "      <td>NaN</td>\n",
       "      <td>35sw-rdxj</td>\n",
       "      <td>https://data.cityofnewyork.us/d/35sw-rdxj</td>\n",
       "      <td>data.cityofnewyork</td>\n",
       "      <td>18.0</td>\n",
       "    </tr>\n",
       "    <tr>\n",
       "      <th>2942</th>\n",
       "      <td>Council District</td>\n",
       "      <td>Number</td>\n",
       "      <td>council_district</td>\n",
       "      <td>NaN</td>\n",
       "      <td>f4yq-wry5</td>\n",
       "      <td>https://data.cityofnewyork.us/d/f4yq-wry5</td>\n",
       "      <td>data.cityofnewyork</td>\n",
       "      <td>18.0</td>\n",
       "    </tr>\n",
       "    <tr>\n",
       "      <th>3420</th>\n",
       "      <td>Store_and_fwd_flag</td>\n",
       "      <td>text</td>\n",
       "      <td>store_and_fwd_flag</td>\n",
       "      <td>NaN</td>\n",
       "      <td>hvrh-b6nb</td>\n",
       "      <td>https://data.cityofnewyork.us/d/hvrh-b6nb</td>\n",
       "      <td>data.cityofnewyork</td>\n",
       "      <td>18.0</td>\n",
       "    </tr>\n",
       "    <tr>\n",
       "      <th>4000</th>\n",
       "      <td>Issue Date</td>\n",
       "      <td>calendar_date</td>\n",
       "      <td>issue_date</td>\n",
       "      <td>NaN</td>\n",
       "      <td>2bnn-yakx</td>\n",
       "      <td>https://data.cityofnewyork.us/d/2bnn-yakx</td>\n",
       "      <td>data.cityofnewyork</td>\n",
       "      <td>18.0</td>\n",
       "    </tr>\n",
       "    <tr>\n",
       "      <th>4040</th>\n",
       "      <td>Title</td>\n",
       "      <td>text</td>\n",
       "      <td>title</td>\n",
       "      <td>Label for the priority code</td>\n",
       "      <td>2ei9-vg68</td>\n",
       "      <td>https://data.cityofnewyork.us/d/2ei9-vg68</td>\n",
       "      <td>data.cityofnewyork</td>\n",
       "      <td>18.0</td>\n",
       "    </tr>\n",
       "    <tr>\n",
       "      <th>4065</th>\n",
       "      <td>LOCATION (zip)</td>\n",
       "      <td>text</td>\n",
       "      <td>location_zip</td>\n",
       "      <td>NaN</td>\n",
       "      <td>p937-wjvj</td>\n",
       "      <td>https://data.cityofnewyork.us/d/p937-wjvj</td>\n",
       "      <td>data.cityofnewyork</td>\n",
       "      <td>18.0</td>\n",
       "    </tr>\n",
       "    <tr>\n",
       "      <th>4570</th>\n",
       "      <td>Longitude</td>\n",
       "      <td>Text</td>\n",
       "      <td>longitude</td>\n",
       "      <td>NaN</td>\n",
       "      <td>9a87-6m4x</td>\n",
       "      <td>https://data.cityofnewyork.us/d/9a87-6m4x</td>\n",
       "      <td>data.cityofnewyork</td>\n",
       "      <td>18.0</td>\n",
       "    </tr>\n",
       "    <tr>\n",
       "      <th>4623</th>\n",
       "      <td>BIN</td>\n",
       "      <td>Text</td>\n",
       "      <td>bin</td>\n",
       "      <td>NaN</td>\n",
       "      <td>xubg-57si</td>\n",
       "      <td>https://data.cityofnewyork.us/d/xubg-57si</td>\n",
       "      <td>data.cityofnewyork</td>\n",
       "      <td>18.0</td>\n",
       "    </tr>\n",
       "    <tr>\n",
       "      <th>5320</th>\n",
       "      <td>COUNT NRECEIVES PUBLIC ASSISTANCE</td>\n",
       "      <td>Number</td>\n",
       "      <td>count_nreceives_public_assistance</td>\n",
       "      <td>NaN</td>\n",
       "      <td>6bic-qvek</td>\n",
       "      <td>https://data.cityofnewyork.us/d/6bic-qvek</td>\n",
       "      <td>data.cityofnewyork</td>\n",
       "      <td>18.0</td>\n",
       "    </tr>\n",
       "    <tr>\n",
       "      <th>6007</th>\n",
       "      <td>Building</td>\n",
       "      <td>text</td>\n",
       "      <td>agency</td>\n",
       "      <td>NaN</td>\n",
       "      <td>vvj6-d5qx</td>\n",
       "      <td>https://data.cityofnewyork.us/d/vvj6-d5qx</td>\n",
       "      <td>data.cityofnewyork</td>\n",
       "      <td>18.0</td>\n",
       "    </tr>\n",
       "    <tr>\n",
       "      <th>6049</th>\n",
       "      <td>time</td>\n",
       "      <td>Text</td>\n",
       "      <td>time</td>\n",
       "      <td>Last updated time\\n</td>\n",
       "      <td>ek5y-zcyf</td>\n",
       "      <td>https://data.cityofnewyork.us/d/ek5y-zcyf</td>\n",
       "      <td>data.cityofnewyork</td>\n",
       "      <td>18.0</td>\n",
       "    </tr>\n",
       "    <tr>\n",
       "      <th>7187</th>\n",
       "      <td>Census Tract</td>\n",
       "      <td>Number</td>\n",
       "      <td>census_tract</td>\n",
       "      <td>NaN</td>\n",
       "      <td>pqg4-dm6b</td>\n",
       "      <td>https://data.cityofnewyork.us/d/pqg4-dm6b</td>\n",
       "      <td>data.cityofnewyork</td>\n",
       "      <td>18.0</td>\n",
       "    </tr>\n",
       "    <tr>\n",
       "      <th>7437</th>\n",
       "      <td>NTA</td>\n",
       "      <td>Text</td>\n",
       "      <td>nta</td>\n",
       "      <td>NaN</td>\n",
       "      <td>n5xc-7jfa</td>\n",
       "      <td>https://data.cityofnewyork.us/d/n5xc-7jfa</td>\n",
       "      <td>data.cityofnewyork</td>\n",
       "      <td>18.0</td>\n",
       "    </tr>\n",
       "    <tr>\n",
       "      <th>7621</th>\n",
       "      <td>Owner's First Name</td>\n",
       "      <td>Text</td>\n",
       "      <td>owner_s_first_name</td>\n",
       "      <td>First Name of property owner</td>\n",
       "      <td>iz2q-9x8d</td>\n",
       "      <td>https://data.cityofnewyork.us/d/iz2q-9x8d</td>\n",
       "      <td>data.cityofnewyork</td>\n",
       "      <td>18.0</td>\n",
       "    </tr>\n",
       "    <tr>\n",
       "      <th>8925</th>\n",
       "      <td>City Council Districts</td>\n",
       "      <td>Number</td>\n",
       "      <td>:@computed_region_92fq_4b7q</td>\n",
       "      <td>NaN</td>\n",
       "      <td>dt2z-amuf</td>\n",
       "      <td>https://data.cityofnewyork.us/d/dt2z-amuf</td>\n",
       "      <td>data.cityofnewyork</td>\n",
       "      <td>18.0</td>\n",
       "    </tr>\n",
       "    <tr>\n",
       "      <th>13746</th>\n",
       "      <td>Location 1 (city)</td>\n",
       "      <td>Text</td>\n",
       "      <td>location_1_city</td>\n",
       "      <td>NaN</td>\n",
       "      <td>gbgg-xjuf</td>\n",
       "      <td>https://data.cityofnewyork.us/d/gbgg-xjuf</td>\n",
       "      <td>data.cityofnewyork</td>\n",
       "      <td>18.0</td>\n",
       "    </tr>\n",
       "    <tr>\n",
       "      <th>13863</th>\n",
       "      <td>Local % of cohort</td>\n",
       "      <td>Number</td>\n",
       "      <td>local_of_cohort</td>\n",
       "      <td>NaN</td>\n",
       "      <td>nb39-jx2v</td>\n",
       "      <td>https://data.cityofnewyork.us/d/nb39-jx2v</td>\n",
       "      <td>data.cityofnewyork</td>\n",
       "      <td>18.0</td>\n",
       "    </tr>\n",
       "    <tr>\n",
       "      <th>13919</th>\n",
       "      <td>Funding Type</td>\n",
       "      <td>Text</td>\n",
       "      <td>funding</td>\n",
       "      <td>City or Non City</td>\n",
       "      <td>2cmn-uidm</td>\n",
       "      <td>https://data.cityofnewyork.us/d/2cmn-uidm</td>\n",
       "      <td>data.cityofnewyork</td>\n",
       "      <td>18.0</td>\n",
       "    </tr>\n",
       "    <tr>\n",
       "      <th>13988</th>\n",
       "      <td>dbn</td>\n",
       "      <td>Text</td>\n",
       "      <td>dbn</td>\n",
       "      <td>NaN</td>\n",
       "      <td>qvir-knu3</td>\n",
       "      <td>https://data.cityofnewyork.us/d/qvir-knu3</td>\n",
       "      <td>data.cityofnewyork</td>\n",
       "      <td>18.0</td>\n",
       "    </tr>\n",
       "    <tr>\n",
       "      <th>21844</th>\n",
       "      <td>5:00-6:00PM</td>\n",
       "      <td>number</td>\n",
       "      <td>_5_00_6_00pm</td>\n",
       "      <td>NaN</td>\n",
       "      <td>96ay-ea4r</td>\n",
       "      <td>https://data.cityofnewyork.us/d/96ay-ea4r</td>\n",
       "      <td>data.cityofnewyork</td>\n",
       "      <td>18.0</td>\n",
       "    </tr>\n",
       "    <tr>\n",
       "      <th>22136</th>\n",
       "      <td>Average Class Size</td>\n",
       "      <td>Number</td>\n",
       "      <td>average_class_size</td>\n",
       "      <td>NaN</td>\n",
       "      <td>icps-nwdu</td>\n",
       "      <td>https://data.cityofnewyork.us/d/icps-nwdu</td>\n",
       "      <td>data.cityofnewyork</td>\n",
       "      <td>18.0</td>\n",
       "    </tr>\n",
       "  </tbody>\n",
       "</table>\n",
       "</div>"
      ],
      "text/plain": [
       "                                    name     field_type  \\\n",
       "6                             DOBRunDate  Calendar date   \n",
       "55                 Owner's Business Name           Text   \n",
       "838                     Council District         Number   \n",
       "874                               STREET           Text   \n",
       "1446                           EventCity           Text   \n",
       "2019                                From           text   \n",
       "2777                    Police Precincts         Number   \n",
       "2942                    Council District         Number   \n",
       "3420                  Store_and_fwd_flag           text   \n",
       "4000                          Issue Date  calendar_date   \n",
       "4040                               Title           text   \n",
       "4065                      LOCATION (zip)           text   \n",
       "4570                           Longitude           Text   \n",
       "4623                                 BIN           Text   \n",
       "5320   COUNT NRECEIVES PUBLIC ASSISTANCE         Number   \n",
       "6007                            Building           text   \n",
       "6049                                time           Text   \n",
       "7187                        Census Tract         Number   \n",
       "7437                                 NTA           Text   \n",
       "7621                  Owner's First Name           Text   \n",
       "8925              City Council Districts         Number   \n",
       "13746                  Location 1 (city)           Text   \n",
       "13863                  Local % of cohort         Number   \n",
       "13919                       Funding Type           Text   \n",
       "13988                                dbn           Text   \n",
       "21844                        5:00-6:00PM         number   \n",
       "22136                 Average Class Size         Number   \n",
       "\n",
       "                              field_name  \\\n",
       "6                             dobrundate   \n",
       "55                 owner_s_business_name   \n",
       "838                    community_council   \n",
       "874                               street   \n",
       "1446                                city   \n",
       "2019                                from   \n",
       "2777         :@computed_region_sbqj_enih   \n",
       "2942                    council_district   \n",
       "3420                  store_and_fwd_flag   \n",
       "4000                          issue_date   \n",
       "4040                               title   \n",
       "4065                        location_zip   \n",
       "4570                           longitude   \n",
       "4623                                 bin   \n",
       "5320   count_nreceives_public_assistance   \n",
       "6007                              agency   \n",
       "6049                                time   \n",
       "7187                        census_tract   \n",
       "7437                                 nta   \n",
       "7621                  owner_s_first_name   \n",
       "8925         :@computed_region_92fq_4b7q   \n",
       "13746                    location_1_city   \n",
       "13863                    local_of_cohort   \n",
       "13919                            funding   \n",
       "13988                                dbn   \n",
       "21844                       _5_00_6_00pm   \n",
       "22136                 average_class_size   \n",
       "\n",
       "                                             description dataset-id  \\\n",
       "6      Date when query is run and pushed to Open Data...  ic3t-wcy2   \n",
       "55                       Business Name of Property Owner  ic3t-wcy2   \n",
       "838                                                  NaN  dzgh-ja44   \n",
       "874                                                  NaN  3h2n-5cm9   \n",
       "1446   For public hearings and meetings notices: City...  3khw-qi8f   \n",
       "2019     Intersecting street name at one end of street\\n  p424-amsu   \n",
       "2777                                                 NaN  35sw-rdxj   \n",
       "2942                                                 NaN  f4yq-wry5   \n",
       "3420                                                 NaN  hvrh-b6nb   \n",
       "4000                                                 NaN  2bnn-yakx   \n",
       "4040                         Label for the priority code  2ei9-vg68   \n",
       "4065                                                 NaN  p937-wjvj   \n",
       "4570                                                 NaN  9a87-6m4x   \n",
       "4623                                                 NaN  xubg-57si   \n",
       "5320                                                 NaN  6bic-qvek   \n",
       "6007                                                 NaN  vvj6-d5qx   \n",
       "6049                                 Last updated time\\n  ek5y-zcyf   \n",
       "7187                                                 NaN  pqg4-dm6b   \n",
       "7437                                                 NaN  n5xc-7jfa   \n",
       "7621                        First Name of property owner  iz2q-9x8d   \n",
       "8925                                                 NaN  dt2z-amuf   \n",
       "13746                                                NaN  gbgg-xjuf   \n",
       "13863                                                NaN  nb39-jx2v   \n",
       "13919                                   City or Non City  2cmn-uidm   \n",
       "13988                                                NaN  qvir-knu3   \n",
       "21844                                                NaN  96ay-ea4r   \n",
       "22136                                                NaN  icps-nwdu   \n",
       "\n",
       "                                    dataset_link              portal  cluster  \n",
       "6      https://data.cityofnewyork.us/d/ic3t-wcy2  data.cityofnewyork     18.0  \n",
       "55     https://data.cityofnewyork.us/d/ic3t-wcy2  data.cityofnewyork     18.0  \n",
       "838    https://data.cityofnewyork.us/d/dzgh-ja44  data.cityofnewyork     18.0  \n",
       "874    https://data.cityofnewyork.us/d/3h2n-5cm9  data.cityofnewyork     18.0  \n",
       "1446   https://data.cityofnewyork.us/d/3khw-qi8f  data.cityofnewyork     18.0  \n",
       "2019   https://data.cityofnewyork.us/d/p424-amsu  data.cityofnewyork     18.0  \n",
       "2777   https://data.cityofnewyork.us/d/35sw-rdxj  data.cityofnewyork     18.0  \n",
       "2942   https://data.cityofnewyork.us/d/f4yq-wry5  data.cityofnewyork     18.0  \n",
       "3420   https://data.cityofnewyork.us/d/hvrh-b6nb  data.cityofnewyork     18.0  \n",
       "4000   https://data.cityofnewyork.us/d/2bnn-yakx  data.cityofnewyork     18.0  \n",
       "4040   https://data.cityofnewyork.us/d/2ei9-vg68  data.cityofnewyork     18.0  \n",
       "4065   https://data.cityofnewyork.us/d/p937-wjvj  data.cityofnewyork     18.0  \n",
       "4570   https://data.cityofnewyork.us/d/9a87-6m4x  data.cityofnewyork     18.0  \n",
       "4623   https://data.cityofnewyork.us/d/xubg-57si  data.cityofnewyork     18.0  \n",
       "5320   https://data.cityofnewyork.us/d/6bic-qvek  data.cityofnewyork     18.0  \n",
       "6007   https://data.cityofnewyork.us/d/vvj6-d5qx  data.cityofnewyork     18.0  \n",
       "6049   https://data.cityofnewyork.us/d/ek5y-zcyf  data.cityofnewyork     18.0  \n",
       "7187   https://data.cityofnewyork.us/d/pqg4-dm6b  data.cityofnewyork     18.0  \n",
       "7437   https://data.cityofnewyork.us/d/n5xc-7jfa  data.cityofnewyork     18.0  \n",
       "7621   https://data.cityofnewyork.us/d/iz2q-9x8d  data.cityofnewyork     18.0  \n",
       "8925   https://data.cityofnewyork.us/d/dt2z-amuf  data.cityofnewyork     18.0  \n",
       "13746  https://data.cityofnewyork.us/d/gbgg-xjuf  data.cityofnewyork     18.0  \n",
       "13863  https://data.cityofnewyork.us/d/nb39-jx2v  data.cityofnewyork     18.0  \n",
       "13919  https://data.cityofnewyork.us/d/2cmn-uidm  data.cityofnewyork     18.0  \n",
       "13988  https://data.cityofnewyork.us/d/qvir-knu3  data.cityofnewyork     18.0  \n",
       "21844  https://data.cityofnewyork.us/d/96ay-ea4r  data.cityofnewyork     18.0  \n",
       "22136  https://data.cityofnewyork.us/d/icps-nwdu  data.cityofnewyork     18.0  "
      ]
     },
     "execution_count": 63,
     "metadata": {},
     "output_type": "execute_result"
    }
   ],
   "source": [
    "common_columns_df[common_columns_df.cluster == 18]"
   ]
  },
  {
   "cell_type": "code",
   "execution_count": null,
   "metadata": {},
   "outputs": [],
   "source": []
  }
 ],
 "metadata": {
  "kernelspec": {
   "display_name": "Python 3",
   "language": "python",
   "name": "python3"
  },
  "language_info": {
   "codemirror_mode": {
    "name": "ipython",
    "version": 3
   },
   "file_extension": ".py",
   "mimetype": "text/x-python",
   "name": "python",
   "nbconvert_exporter": "python",
   "pygments_lexer": "ipython3",
   "version": "3.8.1"
  }
 },
 "nbformat": 4,
 "nbformat_minor": 4
}
