{
 "cells": [
  {
   "cell_type": "code",
   "execution_count": 76,
   "id": "b259e9fb",
   "metadata": {},
   "outputs": [],
   "source": [
    "import pandas as pd\n",
    "import spacy\n",
    "from collections import defaultdict\n",
    "import json"
   ]
  },
  {
   "cell_type": "code",
   "execution_count": 19,
   "id": "9f1253c7",
   "metadata": {},
   "outputs": [],
   "source": [
    "columns_df = pd.read_csv('nyc_columns_common.csv')"
   ]
  },
  {
   "cell_type": "code",
   "execution_count": 3,
   "id": "a9fbd417",
   "metadata": {},
   "outputs": [],
   "source": [
    "nlp = spacy.load(\"en_core_web_lg\")"
   ]
  },
  {
   "cell_type": "code",
   "execution_count": 5,
   "id": "869d602e",
   "metadata": {},
   "outputs": [],
   "source": [
    "doc = spacy.tokens.Doc(nlp.vocab, words=columns_df.field_name)"
   ]
  },
  {
   "cell_type": "code",
   "execution_count": 61,
   "id": "2d8d56cc",
   "metadata": {},
   "outputs": [],
   "source": [
    "top_200_fields = columns_df.groupby('field_name')['field_name'].count().sort_values(ascending=False).index.tolist()[0:200]"
   ]
  },
  {
   "cell_type": "code",
   "execution_count": 65,
   "id": "298c1b55",
   "metadata": {},
   "outputs": [],
   "source": [
    "doc = spacy.tokens.Doc(nlp.vocab, words=columns_df.field_name.unique())"
   ]
  },
  {
   "cell_type": "code",
   "execution_count": 67,
   "id": "e188e59e",
   "metadata": {},
   "outputs": [
    {
     "data": {
      "text/plain": [
       "1415"
      ]
     },
     "execution_count": 67,
     "metadata": {},
     "output_type": "execute_result"
    }
   ],
   "source": [
    "print(len(doc))"
   ]
  },
  {
   "cell_type": "code",
   "execution_count": 81,
   "id": "dffe4195",
   "metadata": {},
   "outputs": [
    {
     "name": "stderr",
     "output_type": "stream",
     "text": [
      "<ipython-input-81-17148ee1f44d>:7: UserWarning: [W008] Evaluating Token.similarity based on empty vectors.\n",
      "  similarity = word.similarity(word2)\n"
     ]
    }
   ],
   "source": [
    "results = []\n",
    "for word in doc:\n",
    "    d = {\"canonical_id\" : word.text, \"metrtic\" : \"similarity\", \"mapped_values\": []}\n",
    "    for word2 in doc:\n",
    "        if word.text == word2.text:\n",
    "            continue\n",
    "        similarity = word.similarity(word2)\n",
    "        if similarity >= 0.65:\n",
    "            d['mapped_values'].append({\"val\": word2.text, \"confidence\": similarity})\n",
    "    if d['mapped_values']:\n",
    "       results.append(d) "
   ]
  },
  {
   "cell_type": "code",
   "execution_count": 86,
   "id": "58d267d2",
   "metadata": {},
   "outputs": [],
   "source": [
    "with open('spacy_similarities.json', 'w') as f:\n",
    "    f.write(json.dumps(str(results)))"
   ]
  }
 ],
 "metadata": {
  "kernelspec": {
   "display_name": "Python 3",
   "language": "python",
   "name": "python3"
  },
  "language_info": {
   "codemirror_mode": {
    "name": "ipython",
    "version": 3
   },
   "file_extension": ".py",
   "mimetype": "text/x-python",
   "name": "python",
   "nbconvert_exporter": "python",
   "pygments_lexer": "ipython3",
   "version": "3.9.1"
  }
 },
 "nbformat": 4,
 "nbformat_minor": 5
}
